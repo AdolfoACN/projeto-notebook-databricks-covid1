{
 "cells": [
  {
   "cell_type": "code",
   "execution_count": 0,
   "metadata": {
    "application/vnd.databricks.v1+cell": {
     "cellMetadata": {
      "byteLimit": 2048000,
      "rowLimit": 10000
     },
     "inputWidgets": {},
     "nuid": "5113c408-3e3f-44fe-9850-6b0948c8ec30",
     "showTitle": false,
     "tableResultSettingsMap": {},
     "title": ""
    }
   },
   "outputs": [
    {
     "output_type": "execute_result",
     "data": {
      "text/plain": [
       "True"
      ]
     },
     "execution_count": 99,
     "metadata": {},
     "output_type": "execute_result"
    }
   ],
   "source": [
    "dbutils.fs.unmount(\"/mnt/azuredatabricksadolfo/bronze\")\n",
    "dbutils.fs.mount (\n",
    "    source = \"wasbs://bronze@azuredatabricksadolfo.blob.core.windows.net\", \n",
    "   mount_point = \"/mnt/azuredatabricksadolfo/bronze\", \n",
    "    extra_configs = {\"fs.azure.account.key.azuredatabricksadolfo.blob.core.windows.net\":\"qPxqIfzzU3T5qh6rYJva3bkP4axJQ57KwssIWpsW31Ttcvg6WhDWictW7EvEDytFHwXlGUpWYvTO+AStw/BwgQ==\"}\n",
    "                  )"
   ]
  },
  {
   "cell_type": "code",
   "execution_count": 0,
   "metadata": {
    "application/vnd.databricks.v1+cell": {
     "cellMetadata": {
      "byteLimit": 2048000,
      "rowLimit": 10000
     },
     "inputWidgets": {},
     "nuid": "571d38ff-5bd0-4853-a408-7747b5cc9450",
     "showTitle": false,
     "tableResultSettingsMap": {},
     "title": ""
    }
   },
   "outputs": [
    {
     "output_type": "display_data",
     "data": {
      "text/plain": [
       "\u001B[0;36m  File \u001B[0;32m<command-7593693771494678>, line 3\u001B[0;36m\u001B[0m\n",
       "\u001B[0;31m    extra_configs = {\"fs.azure.account.key.azuredatabricksadolfo.blob.core.windows.net\":\"qPxqIfzzU3T5qh6rYJva3bkP4axJQ57KwssIWpsW31Ttcvg6WhDWictW7EvEDytFHwXlGUpWYvTO+AStw/BwgQ==\"} # chave de acesso ao blob storage\u001B[0m\n",
       "\u001B[0m                                                                                                                                                                                                                     ^\u001B[0m\n",
       "\u001B[0;31mSyntaxError\u001B[0m\u001B[0;31m:\u001B[0m incomplete input\n"
      ]
     },
     "metadata": {
      "application/vnd.databricks.v1+output": {
       "addedWidgets": {},
       "arguments": {},
       "datasetInfos": [],
       "jupyterProps": {
        "ename": "SyntaxError",
        "evalue": "incomplete input (command-7593693771494678-3320909882, line 3)"
       },
       "metadata": {
        "errorSummary": "<span class='ansi-red-fg'>SyntaxError</span>: incomplete input (command-7593693771494678-3320909882, line 3)"
       },
       "removedWidgets": [],
       "sqlProps": null,
       "stackFrames": [
        "\u001B[0;36m  File \u001B[0;32m<command-7593693771494678>, line 3\u001B[0;36m\u001B[0m\n\u001B[0;31m    extra_configs = {\"fs.azure.account.key.azuredatabricksadolfo.blob.core.windows.net\":\"qPxqIfzzU3T5qh6rYJva3bkP4axJQ57KwssIWpsW31Ttcvg6WhDWictW7EvEDytFHwXlGUpWYvTO+AStw/BwgQ==\"} # chave de acesso ao blob storage\u001B[0m\n\u001B[0m                                                                                                                                                                                                                     ^\u001B[0m\n\u001B[0;31mSyntaxError\u001B[0m\u001B[0;31m:\u001B[0m incomplete input\n"
       ],
       "type": "baseError"
      }
     },
     "output_type": "display_data"
    }
   ],
   "source": [
    "dbutils.fs.mount (source = \"wasbs://silver@azuredatabricksadolfo.blob.core.windows.net\", # origem do arquivo\n",
    "                  mount_point = \"/mnt/azuredatabricksadolfo/silver\", # localização do arquivo\n",
    "                  extra_configs = {\"fs.azure.account.key.azuredatabricksadolfo.blob.core.windows.net\":\"qPxqIfzzU3T5qh6rYJva3bkP4axJQ57KwssIWpsW31Ttcvg6WhDWictW7EvEDytFHwXlGUpWYvTO+AStw/BwgQ==\"} # chave de acesso ao blob storage"
   ]
  },
  {
   "cell_type": "code",
   "execution_count": 0,
   "metadata": {
    "application/vnd.databricks.v1+cell": {
     "cellMetadata": {
      "byteLimit": 2048000,
      "rowLimit": 10000
     },
     "inputWidgets": {},
     "nuid": "05f4050e-08b7-4062-9d24-808bd2654ef0",
     "showTitle": false,
     "tableResultSettingsMap": {},
     "title": ""
    }
   },
   "outputs": [
    {
     "output_type": "display_data",
     "data": {
      "text/plain": [
       ""
      ]
     },
     "metadata": {
      "application/vnd.databricks.v1+output": {
       "addedWidgets": {},
       "arguments": {},
       "datasetInfos": [],
       "jupyterProps": null,
       "metadata": {
        "errorSummary": "Command skipped"
       },
       "removedWidgets": [],
       "sqlProps": null,
       "stackFrames": [],
       "type": "baseError"
      }
     },
     "output_type": "display_data"
    }
   ],
   "source": [
    "\n",
    "dbutils.fs.mount (source = \"wasbs://gold@azuredatabricksadolfo.blob.core.windows.net\", # origem do arquivo\n",
    "                  mount_point = \"/mnt/azuredatabricksadolfo/gold\", # localização do arquivo\n",
    "                  extra_configs = {\"fs.azure.account.key.azuredatabricksadolfo.blob.core.windows.net\":\"qPxqIfzzU3T5qh6rYJva3bkP4axJQ57KwssIWpsW31Ttcvg6WhDWictW7EvEDytFHwXlGUpWYvTO+AStw/BwgQ==\"}) # chave de acesso ao blob storage"
   ]
  },
  {
   "cell_type": "code",
   "execution_count": 0,
   "metadata": {
    "application/vnd.databricks.v1+cell": {
     "cellMetadata": {
      "byteLimit": 2048000,
      "rowLimit": 10000
     },
     "inputWidgets": {},
     "nuid": "9f53897b-ad87-428a-ab02-2c4c44fc2b35",
     "showTitle": false,
     "tableResultSettingsMap": {},
     "title": ""
    }
   },
   "outputs": [
    {
     "output_type": "display_data",
     "data": {
      "text/plain": [
       ""
      ]
     },
     "metadata": {
      "application/vnd.databricks.v1+output": {
       "addedWidgets": {},
       "arguments": {},
       "datasetInfos": [],
       "jupyterProps": null,
       "metadata": {
        "errorSummary": "Command skipped"
       },
       "removedWidgets": [],
       "sqlProps": null,
       "stackFrames": [],
       "type": "baseError"
      }
     },
     "output_type": "display_data"
    }
   ],
   "source": [
    "#criar database\n",
    "\n",
    "spark.sql(\"CREATE DATABASE IF NOT EXISTS covid\")"
   ]
  },
  {
   "cell_type": "code",
   "execution_count": 0,
   "metadata": {
    "application/vnd.databricks.v1+cell": {
     "cellMetadata": {
      "byteLimit": 2048000,
      "rowLimit": 10000
     },
     "inputWidgets": {},
     "nuid": "d86c784b-dc2f-450d-9f51-24e7fa6b1c81",
     "showTitle": false,
     "tableResultSettingsMap": {},
     "title": ""
    }
   },
   "outputs": [
    {
     "output_type": "display_data",
     "data": {
      "text/plain": [
       ""
      ]
     },
     "metadata": {
      "application/vnd.databricks.v1+output": {
       "addedWidgets": {},
       "arguments": {},
       "datasetInfos": [],
       "jupyterProps": null,
       "metadata": {
        "errorSummary": "Command skipped"
       },
       "removedWidgets": [],
       "sqlProps": null,
       "stackFrames": [],
       "type": "baseError"
      }
     },
     "output_type": "display_data"
    }
   ],
   "source": [
    "# ler csv da camada bronze\n",
    "df_covid_br_bronze = spark.read.format('csv').options(header = 'true', inferSchema = 'true', delimiter = ';').load('dbfs:/mnt/azuredatabricksadolfo/bronze/SRAG_01-06.csv')"
   ]
  },
  {
   "cell_type": "code",
   "execution_count": 0,
   "metadata": {
    "application/vnd.databricks.v1+cell": {
     "cellMetadata": {
      "byteLimit": 2048000,
      "rowLimit": 10000
     },
     "inputWidgets": {},
     "nuid": "6a672eff-df8b-4a2f-9854-fcd5bb362a76",
     "showTitle": false,
     "tableResultSettingsMap": {},
     "title": ""
    }
   },
   "outputs": [
    {
     "output_type": "display_data",
     "data": {
      "text/plain": [
       ""
      ]
     },
     "metadata": {
      "application/vnd.databricks.v1+output": {
       "addedWidgets": {},
       "arguments": {},
       "datasetInfos": [],
       "jupyterProps": null,
       "metadata": {
        "errorSummary": "Command skipped"
       },
       "removedWidgets": [],
       "sqlProps": null,
       "stackFrames": [],
       "type": "baseError"
      }
     },
     "output_type": "display_data"
    }
   ],
   "source": [
    "#limpeza dados vazios\n",
    "df_covid_silver = df_covid_br_bronze.filter(df_covid_br_bronze.ID_REGIONA.isNotNull)\n"
   ]
  },
  {
   "cell_type": "code",
   "execution_count": 0,
   "metadata": {
    "application/vnd.databricks.v1+cell": {
     "cellMetadata": {
      "byteLimit": 2048000,
      "rowLimit": 10000
     },
     "inputWidgets": {},
     "nuid": "7a4c1760-f6cb-4fe5-869f-ac9ecf966e25",
     "showTitle": false,
     "tableResultSettingsMap": {},
     "title": ""
    }
   },
   "outputs": [
    {
     "output_type": "display_data",
     "data": {
      "text/plain": [
       ""
      ]
     },
     "metadata": {
      "application/vnd.databricks.v1+output": {
       "addedWidgets": {},
       "arguments": {},
       "datasetInfos": [],
       "jupyterProps": null,
       "metadata": {
        "errorSummary": "Command skipped"
       },
       "removedWidgets": [],
       "sqlProps": null,
       "stackFrames": [],
       "type": "baseError"
      }
     },
     "output_type": "display_data"
    }
   ],
   "source": [
    "#CRIAR ARQUIVO PARQUET NO DIRETÓRIO\n",
    "# BUSCAR A INFORMAÇÃO LIMPA E JOGAR NOVAMENTE NO DIRETÓRIO NO FORMATO PARQUET\n",
    "df_covid_silver.write.format('delta').mode('overwrite').save('/mnt/azuredatabricksadolfo/silver/br_covid')\n"
   ]
  },
  {
   "cell_type": "code",
   "execution_count": 0,
   "metadata": {
    "application/vnd.databricks.v1+cell": {
     "cellMetadata": {
      "byteLimit": 2048000,
      "rowLimit": 10000
     },
     "inputWidgets": {},
     "nuid": "0aae87fe-8008-4ad9-a8cc-d73b2177886a",
     "showTitle": false,
     "tableResultSettingsMap": {},
     "title": ""
    }
   },
   "outputs": [
    {
     "output_type": "display_data",
     "data": {
      "text/plain": [
       ""
      ]
     },
     "metadata": {
      "application/vnd.databricks.v1+output": {
       "addedWidgets": {},
       "arguments": {},
       "datasetInfos": [],
       "jupyterProps": null,
       "metadata": {
        "errorSummary": "Command skipped"
       },
       "removedWidgets": [],
       "sqlProps": null,
       "stackFrames": [],
       "type": "baseError"
      }
     },
     "output_type": "display_data"
    }
   ],
   "source": [
    "display(dbutils.fs.mounts())"
   ]
  },
  {
   "cell_type": "code",
   "execution_count": 0,
   "metadata": {
    "application/vnd.databricks.v1+cell": {
     "cellMetadata": {
      "byteLimit": 2048000,
      "rowLimit": 10000
     },
     "inputWidgets": {},
     "nuid": "41abc107-f2d3-40f8-9d1c-f927b0e522e5",
     "showTitle": false,
     "tableResultSettingsMap": {},
     "title": ""
    }
   },
   "outputs": [
    {
     "output_type": "display_data",
     "data": {
      "text/plain": [
       ""
      ]
     },
     "metadata": {
      "application/vnd.databricks.v1+output": {
       "addedWidgets": {},
       "arguments": {},
       "datasetInfos": [],
       "jupyterProps": null,
       "metadata": {
        "errorSummary": "Command skipped"
       },
       "removedWidgets": [],
       "sqlProps": null,
       "stackFrames": [],
       "type": "baseError"
      }
     },
     "output_type": "display_data"
    }
   ],
   "source": [
    "# Garanta que a estrutura Delta existe lê o conteúdo do arquivo\n",
    "\n",
    "display(spark.read.format(\"delta\").load(\"/mnt/azuredatabricksadolfo/silver/br_covid\"))"
   ]
  },
  {
   "cell_type": "code",
   "execution_count": 0,
   "metadata": {
    "application/vnd.databricks.v1+cell": {
     "cellMetadata": {
      "byteLimit": 2048000,
      "rowLimit": 10000
     },
     "inputWidgets": {},
     "nuid": "0e3fb229-6ae3-43a2-a543-db2ae8311326",
     "showTitle": false,
     "tableResultSettingsMap": {},
     "title": ""
    }
   },
   "outputs": [
    {
     "output_type": "display_data",
     "data": {
      "text/plain": [
       ""
      ]
     },
     "metadata": {
      "application/vnd.databricks.v1+output": {
       "addedWidgets": {},
       "arguments": {},
       "datasetInfos": [],
       "jupyterProps": null,
       "metadata": {
        "errorSummary": "Command skipped"
       },
       "removedWidgets": [],
       "sqlProps": null,
       "stackFrames": [],
       "type": "baseError"
      }
     },
     "output_type": "display_data"
    }
   ],
   "source": [
    "df = spark.read.format(\"delta\").load(\"/mnt/azuredatabricksadolfo/silver/br_covid\")"
   ]
  },
  {
   "cell_type": "code",
   "execution_count": 0,
   "metadata": {
    "application/vnd.databricks.v1+cell": {
     "cellMetadata": {
      "byteLimit": 2048000,
      "rowLimit": 10000
     },
     "inputWidgets": {},
     "nuid": "2542cf2e-89b8-499f-a49f-e55b5335d493",
     "showTitle": false,
     "tableResultSettingsMap": {},
     "title": ""
    }
   },
   "outputs": [
    {
     "output_type": "display_data",
     "data": {
      "text/plain": [
       ""
      ]
     },
     "metadata": {
      "application/vnd.databricks.v1+output": {
       "addedWidgets": {},
       "arguments": {},
       "datasetInfos": [],
       "jupyterProps": null,
       "metadata": {
        "errorSummary": "Command skipped"
       },
       "removedWidgets": [],
       "sqlProps": null,
       "stackFrames": [],
       "type": "baseError"
      }
     },
     "output_type": "display_data"
    }
   ],
   "source": [
    "# cria o schema e depois cria a tabela mencionada dentro do schema\n",
    "# vai criar dentro do pipelinedatabricks o schema silver e depois a tabela mencionada\n",
    "\n",
    "spark.sql(\"CREATE SCHEMA IF NOT EXISTS silver\")\n",
    "df.write.mode(\"overwrite\").saveAsTable(\"silver.br_covid\")"
   ]
  },
  {
   "cell_type": "code",
   "execution_count": 0,
   "metadata": {
    "application/vnd.databricks.v1+cell": {
     "cellMetadata": {
      "byteLimit": 2048000,
      "rowLimit": 10000
     },
     "inputWidgets": {},
     "nuid": "dc38b355-c323-4083-a698-187943c77a86",
     "showTitle": false,
     "tableResultSettingsMap": {},
     "title": ""
    }
   },
   "outputs": [
    {
     "output_type": "display_data",
     "data": {
      "text/plain": [
       ""
      ]
     },
     "metadata": {
      "application/vnd.databricks.v1+output": {
       "addedWidgets": {},
       "arguments": {},
       "datasetInfos": [],
       "jupyterProps": null,
       "metadata": {
        "errorSummary": "Command skipped"
       },
       "removedWidgets": [],
       "sqlProps": null,
       "stackFrames": [],
       "type": "baseError"
      }
     },
     "output_type": "display_data"
    }
   ],
   "source": [
    "\n",
    "# query para verificar os dados na tabela br_covid\n",
    "\n",
    "br_covid = spark.sql('SELECT * FROM silver.br_covid')\n",
    "\n",
    "display(br_covid)"
   ]
  },
  {
   "cell_type": "code",
   "execution_count": 0,
   "metadata": {
    "application/vnd.databricks.v1+cell": {
     "cellMetadata": {
      "byteLimit": 2048000,
      "rowLimit": 10000
     },
     "inputWidgets": {},
     "nuid": "55a7b749-b1bd-48f6-bef5-e506d7026851",
     "showTitle": false,
     "tableResultSettingsMap": {},
     "title": ""
    }
   },
   "outputs": [
    {
     "output_type": "display_data",
     "data": {
      "text/plain": [
       ""
      ]
     },
     "metadata": {
      "application/vnd.databricks.v1+output": {
       "addedWidgets": {},
       "arguments": {},
       "datasetInfos": [],
       "jupyterProps": null,
       "metadata": {
        "errorSummary": "Command skipped"
       },
       "removedWidgets": [],
       "sqlProps": null,
       "stackFrames": [],
       "type": "baseError"
      }
     },
     "output_type": "display_data"
    }
   ],
   "source": [
    "# início dos trabalhos na camada Gold\n",
    "from pyspark.sql.functions import concat, to_date , year, month "
   ]
  },
  {
   "cell_type": "code",
   "execution_count": 0,
   "metadata": {
    "application/vnd.databricks.v1+cell": {
     "cellMetadata": {
      "byteLimit": 2048000,
      "rowLimit": 10000
     },
     "inputWidgets": {},
     "nuid": "7dd529e2-7749-4017-be46-8635798452c0",
     "showTitle": false,
     "tableResultSettingsMap": {},
     "title": ""
    }
   },
   "outputs": [
    {
     "output_type": "display_data",
     "data": {
      "text/plain": [
       ""
      ]
     },
     "metadata": {
      "application/vnd.databricks.v1+output": {
       "addedWidgets": {},
       "arguments": {},
       "datasetInfos": [],
       "jupyterProps": null,
       "metadata": {
        "errorSummary": "Command skipped"
       },
       "removedWidgets": [],
       "sqlProps": null,
       "stackFrames": [],
       "type": "baseError"
      }
     },
     "output_type": "display_data"
    }
   ],
   "source": [
    "# data frame para inicializar os trabalhos na camada gold\n",
    "# armazenar em um novo dataframe os dados do arquivo br_covid\n",
    "\n",
    "df_covid_br_silver = spark.read.format('delta').load('/mnt/azuredatabricksadolfo/silver/br_covid')"
   ]
  },
  {
   "cell_type": "code",
   "execution_count": 0,
   "metadata": {
    "application/vnd.databricks.v1+cell": {
     "cellMetadata": {
      "byteLimit": 2048000,
      "rowLimit": 10000
     },
     "inputWidgets": {},
     "nuid": "f3850698-3ad9-41f2-b473-0ff6335ea875",
     "showTitle": false,
     "tableResultSettingsMap": {},
     "title": ""
    }
   },
   "outputs": [
    {
     "output_type": "display_data",
     "data": {
      "text/plain": [
       ""
      ]
     },
     "metadata": {
      "application/vnd.databricks.v1+output": {
       "addedWidgets": {},
       "arguments": {},
       "datasetInfos": [],
       "jupyterProps": null,
       "metadata": {
        "errorSummary": "Command skipped"
       },
       "removedWidgets": [],
       "sqlProps": null,
       "stackFrames": [],
       "type": "baseError"
      }
     },
     "output_type": "display_data"
    }
   ],
   "source": [
    "df_covid_br_silver = df_covid_br_silver.withColumn('DT_NOTIFIC', to_date(df_covid_br_silver['DT_NOTIFIC']))\n",
    "df_covid_br_silver = df_covid_br_silver.withColumn('DT_SIN_PRI', to_date(df_covid_br_silver['DT_SIN_PRI']))\n",
    "df_covid_br_silver = df_covid_br_silver.withColumn('DT_NASC', to_date(df_covid_br_silver['DT_NASC']))\n"
   ]
  },
  {
   "cell_type": "code",
   "execution_count": 0,
   "metadata": {
    "application/vnd.databricks.v1+cell": {
     "cellMetadata": {
      "byteLimit": 2048000,
      "rowLimit": 10000
     },
     "inputWidgets": {},
     "nuid": "31b0fc6f-9818-440f-9146-d61cab840577",
     "showTitle": false,
     "tableResultSettingsMap": {},
     "title": ""
    }
   },
   "outputs": [],
   "source": [
    "# CRIAR UMA NOVA COLUNA NO DATAFRAME, PARA ARMAZENAR A DATA DA CARGA DO ARQUIVO\n",
    "# ESTA COLUNA SERÁ GRAVADA SOBRE AS ALTERAÇÕES JÁ REALIZADAS NO DATAFRAME ANTERIOR, POR ISSO SERÁ NECESSÁRIO CRIAR UM DATAFRAME NOVO\n",
    "#\n",
    "\n",
    "from pyspark.sql.functions import current_date\n",
    "df_covid_br_gold = df_covid_br_silver.withColumn('DT_CARGA', current_date())"
   ]
  },
  {
   "cell_type": "code",
   "execution_count": 0,
   "metadata": {
    "application/vnd.databricks.v1+cell": {
     "cellMetadata": {
      "byteLimit": 2048000,
      "rowLimit": 10000
     },
     "inputWidgets": {},
     "nuid": "b7d8bd22-80d9-4f8d-83bd-08aef1c005ef",
     "showTitle": false,
     "tableResultSettingsMap": {},
     "title": ""
    }
   },
   "outputs": [],
   "source": [
    "# RENOMEAR ALGUMAS COLUNAS DO DATAFRAME, PARA MELHORAR A LEGIBILIDADE DOS DADOS \n",
    "\n",
    "df_covid_br_gold = df_covid_br_gold.withColumnRenamed('DT_NOTIFIC', 'DT_NOTIFICACAO').withColumnRenamed('DT_SIN_PRI', 'DT_PRIMEIROS_SINTOMAS').withColumnRenamed('DT_NASC', 'DT_NASCIMENTO')"
   ]
  },
  {
   "cell_type": "code",
   "execution_count": 0,
   "metadata": {
    "application/vnd.databricks.v1+cell": {
     "cellMetadata": {
      "byteLimit": 2048000,
      "rowLimit": 10000
     },
     "inputWidgets": {},
     "nuid": "14158287-eaa1-4fdc-b0a2-90c702fed1b7",
     "showTitle": false,
     "tableResultSettingsMap": {},
     "title": ""
    }
   },
   "outputs": [],
   "source": [
    "# ACRESCENTAR MAIS DUAS COLUNAS NO DATAFRAME PARA ARMAZENAR EM SEPARADO AS INFORMAÇÕES DO MES E DO ANO 'YEAR' E 'MONTH'\n",
    "\n",
    "df_covid_br_gold = df_covid_br_gold.withColumn('YEAR', year(df_covid_br_gold['DT_NOTIFICACAO']))\n",
    "df_covid_br_gold = df_covid_br_gold.withColumn('MONTH', month(df_covid_br_gold['DT_NOTIFICACAO']))\n",
    "df_covid_br_gold = df_covid_br_gold.withColumn('YEAR', year(df_covid_br_gold['DT_PRIMEIROS_SINTOMAS']))\n",
    "df_covid_br_gold = df_covid_br_gold.withColumn('MONTH', month(df_covid_br_gold['DT_PRIMEIROS_SINTOMAS']))\n",
    "df_covid_br_gold = df_covid_br_gold.withColumn('YEAR', year(df_covid_br_gold['DT_NASCIMENTO']))\n",
    "df_covid_br_gold = df_covid_br_gold.withColumn('MONTH', month(df_covid_br_gold['DT_NASCIMENTO']))\n",
    "\n"
   ]
  },
  {
   "cell_type": "code",
   "execution_count": 0,
   "metadata": {
    "application/vnd.databricks.v1+cell": {
     "cellMetadata": {
      "byteLimit": 2048000,
      "rowLimit": 10000
     },
     "inputWidgets": {},
     "nuid": "c54a9156-e8a7-421a-9eaa-c9e652e31aaa",
     "showTitle": false,
     "tableResultSettingsMap": {},
     "title": ""
    }
   },
   "outputs": [],
   "source": [
    "#particiona as informações do arquivo por ano e mês para facilitar a busca posterior e eventual gravação em banco de dados\n",
    "\n",
    "df_covid_br_gold.write.format('delta').mode('overwrite').option(\"mergeSchema\",\"true\").partitionBy('YEAR', 'MONTH').save('/mnt/azuredatabricksadolfo/gold/br_covid_gold')"
   ]
  },
  {
   "cell_type": "code",
   "execution_count": 0,
   "metadata": {
    "application/vnd.databricks.v1+cell": {
     "cellMetadata": {},
     "inputWidgets": {},
     "nuid": "8372ee81-59e3-4af2-aa52-7677fb9f3048",
     "showTitle": false,
     "tableResultSettingsMap": {},
     "title": ""
    }
   },
   "outputs": [],
   "source": []
  }
 ],
 "metadata": {
  "application/vnd.databricks.v1+notebook": {
   "computePreferences": null,
   "dashboards": [],
   "environmentMetadata": {
    "base_environment": "",
    "environment_version": "2"
   },
   "language": "python",
   "notebookMetadata": {
    "mostRecentlyExecutedCommandWithImplicitDF": {
     "commandId": 7593693771494726,
     "dataframes": [
      "_sqldf"
     ]
    },
    "pythonIndentUnit": 4
   },
   "notebookName": "Untitled Notebook 2025-02-17 16:07:55",
   "widgets": {}
  },
  "language_info": {
   "name": "python"
  }
 },
 "nbformat": 4,
 "nbformat_minor": 0
}